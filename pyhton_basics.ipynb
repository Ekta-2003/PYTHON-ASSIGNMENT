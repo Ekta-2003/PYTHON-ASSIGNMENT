{
  "nbformat": 4,
  "nbformat_minor": 0,
  "metadata": {
    "colab": {
      "provenance": []
    },
    "kernelspec": {
      "name": "python3",
      "display_name": "Python 3"
    },
    "language_info": {
      "name": "python"
    }
  },
  "cells": [
    {
      "cell_type": "code",
      "execution_count": null,
      "metadata": {
        "id": "tGXBcYHgVkyz"
      },
      "outputs": [],
      "source": [
        "1. What is Python, and why is it popular ?"
      ]
    },
    {
      "cell_type": "markdown",
      "source": [
        "-> Python is dynamically typed ,general purpose programming language that supports ab object oriented programming approach as well as functioning programming approach.And it is interpreted and a high level programming language.And it is simple and easy to understand thats why it is popular."
      ],
      "metadata": {
        "id": "zquf_XOvXA1k"
      }
    },
    {
      "cell_type": "markdown",
      "source": [
        "2. What is an interpreter in Python ?\n",
        "-> In Python, an interpreter is a program that reads and executes Python code line by line, translating it into machine-readable instructions at runtime.\n"
      ],
      "metadata": {
        "id": "7WIihw6oWzK5"
      }
    },
    {
      "cell_type": "markdown",
      "source": [
        "3. What are pre-defined keywords in Python ?\n",
        "-> Python Keywords are some predefined and reserved words in Python that have special meanings. Keywords are used to define the syntax of the coding. The keyword cannot be used as an identifier, function, or variable name. All the keywords in Python are written in lowercase except True and False. such as :              continue            global              pass\n",
        "True                def                 if                  raise\n",
        "and                 del                 import              return\n",
        "as                  elif                in                  try\n",
        "assert              else                is                  while\n"
      ],
      "metadata": {
        "id": "fw9LOXfAVrfC"
      }
    },
    {
      "cell_type": "markdown",
      "source": [
        "4. Can keywords be used as variable names ?\n",
        "->\n",
        "\n",
        "No, keywords cannot be used as variable names in most programming languages because keywords have predefined meanings and are used to define the language's syntax.\n",
        "\n"
      ],
      "metadata": {
        "id": "7s0CYA3WZRF2"
      }
    },
    {
      "cell_type": "markdown",
      "source": [
        "5. What is mutability in Python ?\n",
        "-> Mutability refers to an object's ability to be changed after it's created; mutable objects can be modified in place, while immutable objects cannot.\n",
        "\n",
        "\n"
      ],
      "metadata": {
        "id": "WqeLg-7qZwWd"
      }
    },
    {
      "cell_type": "markdown",
      "source": [
        "6. Why are lists mutable, but tuples are immutable ?\n",
        "-> Tuples and lists are the same in every way except two: tuples use parentheses instead of square brackets, and the items in tuples cannot be modified (but the items in lists can be modified). We often call lists mutable (meaning they can be changed) and tuples immutable (meaning they cannot be changed).\n",
        "\n"
      ],
      "metadata": {
        "id": "xBAj12EtaFv7"
      }
    },
    {
      "cell_type": "markdown",
      "source": [
        "7.What is the difference between “==” and “is” operators in Python ?\n",
        "-> Parameters\n",
        "is Operator\n",
        "\n",
        "== Operator\n",
        "\n",
        "Name :\tThe ‘is’ is known as the identity operator.\n",
        "    \tThe ‘==’ is known as the equality operator.\n",
        "Uses:  The is operator checks if two variables point to the same object in memory. It returns True if both variables are referring to the exact same object. If they point to different objects, even if the values are the same, it returns False.\n",
        "       When the variables on either side have the exact same value, the == operator evaluation is true. Otherwise, it will evaluate as False."
      ],
      "metadata": {
        "id": "j6_QPk3Oar5r"
      }
    },
    {
      "cell_type": "markdown",
      "source": [
        "8.What are logical operators in Python ?\n",
        "    -> Logical operators in Python combine two or more operands and conduct logical comparisons on them. There are three types, i.e., AND, OR, and NOT. They return a boolean value, i.e., True or False.\n"
      ],
      "metadata": {
        "id": "6JhVijCEbsM2"
      }
    },
    {
      "cell_type": "markdown",
      "source": [
        "9. What is type casting in Python ?\n",
        "-> In Python, type casting (also known as type conversion) is the process of converting a variable's data type to another, allowing for flexible operations and data manipulation. This can be done either implicitly (automatically by Python) or explicitly (using built-in functions like int(), float(), str(), etc.).\n"
      ],
      "metadata": {
        "id": "WN10TPebcOzv"
      }
    },
    {
      "cell_type": "markdown",
      "source": [
        "10. What is the difference between implicit and explicit type casting ?\n",
        "-> In programming, implicit type casting (also known as widening conversion) happens automatically by the compiler when converting a smaller data type to a larger one, while explicit type casting (or type casting) requires the programmer to manually specify the conversion, often used when converting a larger data type to a smaller one.\n"
      ],
      "metadata": {
        "id": "9pF8n23bcKi2"
      }
    },
    {
      "cell_type": "markdown",
      "source": [
        "11. What is the purpose of conditional statements in Python ?\n",
        "-> Conditional statements in Python, like if, elif, and else, allow your code to make decisions and execute different blocks of code based on whether a condition is true or false, enabling dynamic and responsive programs.\n",
        "  \n"
      ],
      "metadata": {
        "id": "L57nr-_QcrnV"
      }
    },
    {
      "cell_type": "markdown",
      "source": [
        "12. How does the elif statement work ?\n",
        "-> In Python, elif is short for \"else if\" and is used when the first if statement isn't true, but you want to check for another condition. Meaning, if statements pair up with elif and else statements to perform a series of checks.\n"
      ],
      "metadata": {
        "id": "jQnYpJgYl1EA"
      }
    },
    {
      "cell_type": "markdown",
      "source": [
        "13. What is the difference between for and while loops ?\n",
        "-> For loop is used to iterate over a sequence of items. While loop is used to repeatedly execute a block of statements while a condition is true. For loops are designed for iterating over a sequence of items.\n"
      ],
      "metadata": {
        "id": "sNuRLXMnmZNS"
      }
    },
    {
      "cell_type": "markdown",
      "source": [
        "14.8 Describe a scenario where a while loop is more suitable than a for loop ?\n",
        "->  In contrast to a 'for' loop, which is generally used when the number of iterations is known beforehand, a 'while' loop is ideal for situations where the number of iterations is not predetermined and depends on some dynamic condition.\n"
      ],
      "metadata": {
        "id": "kX8tDHrfnHA3"
      }
    },
    {
      "cell_type": "markdown",
      "source": [
        "                                                        PRACTICAL QUESTIONS"
      ],
      "metadata": {
        "id": "_tMVyBodnlT0"
      }
    },
    {
      "cell_type": "markdown",
      "source": [
        "1. Write a Python program to print \"Hello, World! ?"
      ],
      "metadata": {
        "id": "WZD_IS80omTn"
      }
    },
    {
      "cell_type": "code",
      "source": [
        "print(\"hello world!\")"
      ],
      "metadata": {
        "colab": {
          "base_uri": "https://localhost:8080/"
        },
        "id": "DdZgCJK4otyX",
        "outputId": "3d0c9a4c-3ab6-4c5c-9ff6-0dc364f2f044"
      },
      "execution_count": 4,
      "outputs": [
        {
          "output_type": "stream",
          "name": "stdout",
          "text": [
            "hello world!\n"
          ]
        }
      ]
    },
    {
      "cell_type": "markdown",
      "source": [
        "2. Write a Python program that displays your name and age ?"
      ],
      "metadata": {
        "id": "BHiic7VlpNQp"
      }
    },
    {
      "cell_type": "code",
      "source": [
        "name = 'Ekta'\n",
        "age = 21\n",
        "name , age"
      ],
      "metadata": {
        "colab": {
          "base_uri": "https://localhost:8080/"
        },
        "id": "mtSHAdqnpXQy",
        "outputId": "5564a3c8-a274-4323-c358-0be245a242c0"
      },
      "execution_count": 7,
      "outputs": [
        {
          "output_type": "execute_result",
          "data": {
            "text/plain": [
              "('Ekta', 21)"
            ]
          },
          "metadata": {},
          "execution_count": 7
        }
      ]
    },
    {
      "cell_type": "markdown",
      "source": [
        "3.Write code to print all the pre-defined keywords in Python using the keyword library ?"
      ],
      "metadata": {
        "id": "oB41sEJgp63f"
      }
    },
    {
      "cell_type": "code",
      "source": [
        "help (\"keywords\")"
      ],
      "metadata": {
        "colab": {
          "base_uri": "https://localhost:8080/"
        },
        "id": "ogn68VlKp-IZ",
        "outputId": "53ee2914-9166-4727-90d4-2dce46c4fab6"
      },
      "execution_count": 8,
      "outputs": [
        {
          "output_type": "stream",
          "name": "stdout",
          "text": [
            "\n",
            "Here is a list of the Python keywords.  Enter any keyword to get more help.\n",
            "\n",
            "False               class               from                or\n",
            "None                continue            global              pass\n",
            "True                def                 if                  raise\n",
            "and                 del                 import              return\n",
            "as                  elif                in                  try\n",
            "assert              else                is                  while\n",
            "async               except              lambda              with\n",
            "await               finally             nonlocal            yield\n",
            "break               for                 not                 \n",
            "\n"
          ]
        }
      ]
    },
    {
      "cell_type": "markdown",
      "source": [
        "4. Write a program that checks if a given word is a Python keyword.?"
      ],
      "metadata": {
        "id": "DdNB0p9pqWYo"
      }
    },
    {
      "cell_type": "code",
      "source": [
        "import keyword\n",
        "\n",
        "s = 'for'\n",
        "if keyword.iskeyword(s):\n",
        "    print(f\"'{s}' is a python keyword\")\n",
        "else:\n",
        "    print(f\"'{s}' is not a python keyword\")\n",
        "\n",
        "    print (f\"'{s}' is not a python keyword\")\n"
      ],
      "metadata": {
        "colab": {
          "base_uri": "https://localhost:8080/"
        },
        "id": "j-2Crvfgqfpf",
        "outputId": "09d94cac-38aa-4b82-f4db-f05139f27d3f"
      },
      "execution_count": 9,
      "outputs": [
        {
          "output_type": "stream",
          "name": "stdout",
          "text": [
            "'for' is a python keyword\n"
          ]
        }
      ]
    },
    {
      "cell_type": "markdown",
      "source": [
        "5. Create a list and tuple in Python, and demonstrate how attempting to change an element works differently for each ?"
      ],
      "metadata": {
        "id": "1aVE0Jeyq0Ve"
      }
    },
    {
      "cell_type": "code",
      "source": [
        "# Creating a list\n",
        "my_list = [1, 2, 3]\n",
        "print(\"Original list:\", my_list)\n",
        "\n",
        "# Modifying an element in the list\n",
        "my_list[1] = 99\n",
        "print(\"Modified list:\", my_list)\n",
        "\n",
        "# Creating a tuple\n",
        "my_tuple = (1, 2, 3)\n",
        "print(\"Original tuple:\", my_tuple)\n",
        "\n",
        "# Attempting to modify an element in the tuple (this will raise an error)\n",
        "try:\n",
        "    my_tuple[1] = 99  # This is not allowed\n",
        "except TypeError as e:\n",
        "    print(\"Error:\", e)\n"
      ],
      "metadata": {
        "colab": {
          "base_uri": "https://localhost:8080/"
        },
        "id": "_kO0pS_fq9BR",
        "outputId": "295dba6c-9b56-4395-eef9-68d3ad63b46d"
      },
      "execution_count": 10,
      "outputs": [
        {
          "output_type": "stream",
          "name": "stdout",
          "text": [
            "Original list: [1, 2, 3]\n",
            "Modified list: [1, 99, 3]\n",
            "Original tuple: (1, 2, 3)\n",
            "Error: 'tuple' object does not support item assignment\n"
          ]
        }
      ]
    },
    {
      "cell_type": "markdown",
      "source": [
        "6. Write a function to demonstrate the behavior of mutable and immutable arguments ?"
      ],
      "metadata": {
        "id": "hsWv_WH3rTSR"
      }
    },
    {
      "cell_type": "code",
      "source": [
        "def modify_arguments(mutable_obj, immutable_obj):\n",
        "    # Modify the mutable object (list)\n",
        "    mutable_obj.append(4)\n",
        "    print(\"Inside function (mutable):\", mutable_obj)\n",
        "\n",
        "    # Try modifying the immutable object (integer)\n",
        "    immutable_obj += 10\n",
        "    print(\"Inside function (immutable):\", immutable_obj)\n",
        "\n",
        "# Initialize a mutable object (list) and an immutable object (integer)\n",
        "my_list = [1, 2, 3]\n",
        "my_int = 5\n",
        "\n",
        "print(\"Before function call:\")\n",
        "print(\"Mutable object:\", my_list)\n",
        "print(\"Immutable object:\", my_int)\n",
        "\n",
        "# Call the function\n",
        "modify_arguments(my_list, my_int)\n",
        "\n",
        "print(\"After function call:\")\n",
        "print(\"Mutable object:\", my_list)  # Modified\n",
        "print(\"Immutable object:\", my_int)  # Unchanged\n"
      ],
      "metadata": {
        "colab": {
          "base_uri": "https://localhost:8080/"
        },
        "id": "XIOp2G5SrdrB",
        "outputId": "9e6c32c2-765c-4149-8c1c-6caa926b686a"
      },
      "execution_count": 11,
      "outputs": [
        {
          "output_type": "stream",
          "name": "stdout",
          "text": [
            "Before function call:\n",
            "Mutable object: [1, 2, 3]\n",
            "Immutable object: 5\n",
            "Inside function (mutable): [1, 2, 3, 4]\n",
            "Inside function (immutable): 15\n",
            "After function call:\n",
            "Mutable object: [1, 2, 3, 4]\n",
            "Immutable object: 5\n"
          ]
        }
      ]
    },
    {
      "cell_type": "markdown",
      "source": [
        "7.  Write a program that performs basic arithmetic operations on two user-input numbers?"
      ],
      "metadata": {
        "id": "2EayMsJxruBU"
      }
    },
    {
      "cell_type": "code",
      "source": [
        "# Get user input\n",
        "num1 = float(input(\"Enter first number: \"))\n",
        "num2 = float(input(\"Enter second number: \"))\n",
        "\n",
        "# Perform basic arithmetic operations\n",
        "addition = num1 + num2\n",
        "subtraction = num1 - num2\n",
        "multiplication = num1 * num2\n",
        "\n",
        "# Handle division by zero\n",
        "if num2 != 0:\n",
        "    division = num1 / num2\n",
        "else:\n",
        "    division = \"Undefined (cannot divide by zero)\"\n",
        "\n",
        "# Display results\n",
        "print(\"\\nResults:\")\n",
        "print(f\"Addition: {num1} + {num2} = {addition}\")\n",
        "print(f\"Subtraction: {num1} - {num2} = {subtraction}\")\n",
        "print(f\"Multiplication: {num1} * {num2} = {multiplication}\")\n",
        "print(f\"Division: {num1} / {num2} = {division}\")\n"
      ],
      "metadata": {
        "colab": {
          "base_uri": "https://localhost:8080/"
        },
        "id": "Wintc4i7rwFN",
        "outputId": "06e0c160-821f-4f39-cfa4-c77d88f10afc"
      },
      "execution_count": 19,
      "outputs": [
        {
          "output_type": "stream",
          "name": "stdout",
          "text": [
            "Enter first number: 2\n",
            "Enter second number: 7\n",
            "\n",
            "Results:\n",
            "Addition: 2.0 + 7.0 = 9.0\n",
            "Subtraction: 2.0 - 7.0 = -5.0\n",
            "Multiplication: 2.0 * 7.0 = 14.0\n",
            "Division: 2.0 / 7.0 = 0.2857142857142857\n"
          ]
        }
      ]
    },
    {
      "cell_type": "markdown",
      "source": [
        "8.  Write a program to demonstrate the use of logical operators?"
      ],
      "metadata": {
        "id": "GuEP23vGsCiI"
      }
    },
    {
      "cell_type": "code",
      "source": [
        "# Get user input\n",
        "a = int(input(\"Enter first number: \"))\n",
        "b = int(input(\"Enter second number: \"))\n",
        "\n",
        "# Logical AND\n",
        "and_result = (a > 0) and (b > 0)\n",
        "print(f\"Both numbers are positive: {and_result}\")\n",
        "\n",
        "# Logical OR\n",
        "or_result = (a % 2 == 0) or (b % 2 == 0)\n",
        "print(f\"At least one number is even: {or_result}\")\n",
        "\n",
        "# Logical NOT\n",
        "not_result = not(a == b)\n",
        "print(f\"The numbers are different: {not_result}\")\n"
      ],
      "metadata": {
        "colab": {
          "base_uri": "https://localhost:8080/"
        },
        "id": "omlg8irdsJ7G",
        "outputId": "7618e6bc-5477-427a-93ff-d984144bf62a"
      },
      "execution_count": 18,
      "outputs": [
        {
          "output_type": "stream",
          "name": "stdout",
          "text": [
            "Enter first number: 5\n",
            "Enter second number: 9\n",
            "Both numbers are positive: True\n",
            "At least one number is even: False\n",
            "The numbers are different: True\n"
          ]
        }
      ]
    },
    {
      "cell_type": "markdown",
      "source": [
        "9. Write a Python program to convert user input from string to integer, float, and boolean types."
      ],
      "metadata": {
        "id": "NJrqIC1Fsm1K"
      }
    },
    {
      "cell_type": "code",
      "source": [
        "# Get user input as a string\n",
        "user_input = input(\"Enter a value: \")\n",
        "\n",
        "# Convert to integer (if possible)\n",
        "try:\n",
        "    int_value = int(user_input)\n",
        "    print(f\"Integer conversion: {int_value}\")\n",
        "except ValueError:\n",
        "    print(\"Invalid integer conversion!\")\n",
        "\n",
        "# Convert to float (if possible)\n",
        "try:\n",
        "    float_value = float(user_input)\n",
        "    print(f\"Float conversion: {float_value}\")\n",
        "except ValueError:\n",
        "    print(\"Invalid float conversion!\")\n",
        "\n",
        "# Convert to boolean\n",
        "bool_value = bool(user_input)  # Any non-empty string converts to True\n",
        "print(f\"Boolean conversion: {bool_value}\")\n"
      ],
      "metadata": {
        "colab": {
          "base_uri": "https://localhost:8080/"
        },
        "id": "HK3dX9NDsrX6",
        "outputId": "f3b0b748-980d-4f3b-e127-0ffe19b35840"
      },
      "execution_count": 17,
      "outputs": [
        {
          "output_type": "stream",
          "name": "stdout",
          "text": [
            "Enter a value: 10\n",
            "Integer conversion: 10\n",
            "Float conversion: 10.0\n",
            "Boolean conversion: True\n"
          ]
        }
      ]
    },
    {
      "cell_type": "markdown",
      "source": [
        "10.  Write code to demonstrate type casting with list elements."
      ],
      "metadata": {
        "id": "QxweN1jGtD2M"
      }
    },
    {
      "cell_type": "code",
      "source": [
        "# List of string numbers\n",
        "str_list = [\"10\", \"20\", \"30\", \"40.5\", \"50.8\"]\n",
        "\n",
        "# Convert strings to integers (if possible)\n",
        "try:\n",
        "    int_list = [int(x) for x in str_list]  # This will fail for float values\n",
        "    print(\"Integer List:\", int_list)\n",
        "except ValueError:\n",
        "    print(\"Some values cannot be converted to integers!\")\n",
        "\n",
        "# Convert strings to floats\n",
        "float_list = [float(x) for x in str_list]\n",
        "print(\"Float List:\", float_list)\n",
        "\n",
        "# Convert integers to strings\n",
        "string_list = [str(x) for x in float_list]\n",
        "print(\"String List:\", string_list)\n"
      ],
      "metadata": {
        "colab": {
          "base_uri": "https://localhost:8080/"
        },
        "id": "o8ZuvO6vtJiO",
        "outputId": "7b83bd96-4f89-4bc7-96f5-80cf90046921"
      },
      "execution_count": 16,
      "outputs": [
        {
          "output_type": "stream",
          "name": "stdout",
          "text": [
            "Some values cannot be converted to integers!\n",
            "Float List: [10.0, 20.0, 30.0, 40.5, 50.8]\n",
            "String List: ['10.0', '20.0', '30.0', '40.5', '50.8']\n"
          ]
        }
      ]
    },
    {
      "cell_type": "markdown",
      "source": [
        "11. Write a program that checks if a number is positive, negative, or zero.?"
      ],
      "metadata": {
        "id": "MRzIT7ewyKHW"
      }
    },
    {
      "cell_type": "code",
      "source": [
        "# Get user input\n",
        "num = float(input(\"Enter a number: \"))\n",
        "\n",
        "# Check conditions\n",
        "if num > 0:\n",
        "    print(\"The number is positive.\")\n",
        "elif num < 0:\n",
        "    print(\"The number is negative.\")\n",
        "else:\n",
        "    print(\"The number is zero.\")\n"
      ],
      "metadata": {
        "colab": {
          "base_uri": "https://localhost:8080/"
        },
        "id": "uDe7-6D9yM4S",
        "outputId": "febad416-c678-41cc-c7fb-fc55d47d5ac7"
      },
      "execution_count": 20,
      "outputs": [
        {
          "output_type": "stream",
          "name": "stdout",
          "text": [
            "Enter a number: 10\n",
            "The number is positive.\n"
          ]
        }
      ]
    },
    {
      "cell_type": "markdown",
      "source": [
        "12.  Write a for loop to print numbers from 1 to 10.?"
      ],
      "metadata": {
        "id": "6s463jsUyjCq"
      }
    },
    {
      "cell_type": "code",
      "source": [
        "for num in range(1, 11):  # range(start, stop) -> stop is exclusive\n",
        "    print(num)\n"
      ],
      "metadata": {
        "colab": {
          "base_uri": "https://localhost:8080/"
        },
        "id": "XvlIkemUylnz",
        "outputId": "cb547138-a99e-4d9b-a276-716f7b67b612"
      },
      "execution_count": 21,
      "outputs": [
        {
          "output_type": "stream",
          "name": "stdout",
          "text": [
            "1\n",
            "2\n",
            "3\n",
            "4\n",
            "5\n",
            "6\n",
            "7\n",
            "8\n",
            "9\n",
            "10\n"
          ]
        }
      ]
    },
    {
      "cell_type": "markdown",
      "source": [
        "13. Write a Python program to find the sum of all even numbers between 1 and 50."
      ],
      "metadata": {
        "id": "thN-W9Cfytlg"
      }
    },
    {
      "cell_type": "code",
      "source": [
        "# Initialize sum variable\n",
        "even_sum = 0\n",
        "\n",
        "# Loop through even numbers from 1 to 50\n",
        "for num in range(2, 51, 2):  # Start from 2, go up to 50, step by 2\n",
        "    even_sum += num\n",
        "\n",
        "# Print the result\n",
        "print(\"Sum of all even numbers between 1 and 50:\", even_sum)\n"
      ],
      "metadata": {
        "colab": {
          "base_uri": "https://localhost:8080/"
        },
        "id": "Lo8J2bFvy6ib",
        "outputId": "2e8fbef6-92da-41e5-c414-7b9b0d01a2d5"
      },
      "execution_count": 22,
      "outputs": [
        {
          "output_type": "stream",
          "name": "stdout",
          "text": [
            "Sum of all even numbers between 1 and 50: 650\n"
          ]
        }
      ]
    },
    {
      "cell_type": "markdown",
      "source": [
        "14. Write a program to reverse a string using a while loop.\n"
      ],
      "metadata": {
        "id": "BZIXdToUzIEs"
      }
    },
    {
      "cell_type": "code",
      "source": [
        "# Get user input\n",
        "original_string = input(\"Enter a string: \")\n",
        "\n",
        "# Initialize variables\n",
        "reversed_string = \"\"\n",
        "index = len(original_string) - 1  # Start from the last index\n",
        "\n",
        "# Reverse the string using a while loop\n",
        "while index >= 0:\n",
        "    reversed_string += original_string[index]  # Append characters in reverse order\n",
        "    index -= 1  # Move to the previous character\n",
        "\n",
        "# Print the reversed string\n",
        "print(\"Reversed string:\", reversed_string)\n"
      ],
      "metadata": {
        "colab": {
          "base_uri": "https://localhost:8080/"
        },
        "id": "2MNDTKEHzHft",
        "outputId": "8902a0b6-ed72-41eb-fa59-31dae2ff2775"
      },
      "execution_count": 23,
      "outputs": [
        {
          "output_type": "stream",
          "name": "stdout",
          "text": [
            "Enter a string: hello\n",
            "Reversed string: olleh\n"
          ]
        }
      ]
    },
    {
      "cell_type": "markdown",
      "source": [
        "15. Write a Python program to calculate the factorial of a number provided by the user using a while loop."
      ],
      "metadata": {
        "id": "Fnql3D7e0JaI"
      }
    },
    {
      "cell_type": "code",
      "source": [
        "# Get user input\n",
        "num = int(input(\"Enter a number: \"))\n",
        "\n",
        "# Initialize variables\n",
        "factorial = 1\n",
        "i = num  # Start from the given number\n",
        "\n",
        "# Calculate factorial using a while loop\n",
        "while i > 0:\n",
        "    factorial *= i  # Multiply current value of i\n",
        "    i -= 1  # Decrease i\n",
        "\n",
        "# Print the result\n",
        "print(f\"Factorial of {num} is: {factorial}\")\n"
      ],
      "metadata": {
        "colab": {
          "base_uri": "https://localhost:8080/"
        },
        "id": "RMQGsrAg0LgE",
        "outputId": "ec808ead-31d8-4a4c-83ef-48ca68083a97"
      },
      "execution_count": 24,
      "outputs": [
        {
          "output_type": "stream",
          "name": "stdout",
          "text": [
            "Enter a number: 12\n",
            "Factorial of 12 is: 479001600\n"
          ]
        }
      ]
    }
  ]
}